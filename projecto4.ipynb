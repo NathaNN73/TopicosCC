{
 "cells": [
  {
   "cell_type": "code",
   "execution_count": 11,
   "id": "4615c87d",
   "metadata": {},
   "outputs": [],
   "source": [
    "from ortools.sat.python import cp_model"
   ]
  },
  {
   "cell_type": "code",
   "execution_count": 12,
   "id": "cc9596cb",
   "metadata": {},
   "outputs": [],
   "source": [
    "tablero_m = [\n",
    "    [3, 5, 4, 2, 1, 6],\n",
    "    [3, 2, 5, 6, 4, 1],\n",
    "    [2, 4, 3, 1, 5, 6],\n",
    "    [5, 6, 4, 2, 3, 1],\n",
    "    [2, 5, 3, 6, 4, 1],\n",
    "    [1, 3, 4, 5, 6, 2]\n",
    "]\n",
    "\n",
    "tablero_w = [\n",
    "    [2, 4, 5, 3, 6, 1],\n",
    "    [3, 5, 4, 2, 1, 6],\n",
    "    [1, 3, 6, 2, 4, 5],\n",
    "    [3, 2, 5, 6, 4 ,1],\n",
    "    [6, 4, 2, 1, 3, 5],\n",
    "    [6, 4, 3, 1, 5, 2]\n",
    "]\n"
   ]
  },
  {
   "cell_type": "code",
   "execution_count": 13,
   "id": "b30521bb",
   "metadata": {},
   "outputs": [],
   "source": [
    "model = cp_model.CpModel()\n",
    "\n",
    "parejas = [[model.NewBoolVar(f\"parejas_{m}_{w}\") for w in range(6)] for m in range(6)]\n",
    "\n",
    "\n",
    "n = 6\n",
    "\n",
    "for m in range(6):\n",
    "    model.Add(sum(parejas[m][w] for w in range(6)) == 1)\n",
    "for w in range(6):\n",
    "    model.Add(sum(parejas[m][w] for m in range(6)) == 1)\n",
    "\n",
    "\n",
    "minRank = 4\n",
    "for w in range(6):\n",
    "    for m in range(6):\n",
    "        if tablero_w[w][m] > minRank:\n",
    "            model.Add(parejas[m][w] == 0) \n",
    "\n",
    "for m in range(6):\n",
    "    for w in range(6):\n",
    "        for m0 in range(6):\n",
    "            for w0 in range(6):\n",
    "                if tablero_m[m][w0] < tablero_m[m][w] and tablero_w[w0][m] < tablero_w[w0][m0]:\n",
    "                    model.Add(parejas[m][w] + parejas[m0][w0] <= 1)"
   ]
  },
  {
   "cell_type": "code",
   "execution_count": 14,
   "id": "9d151792",
   "metadata": {},
   "outputs": [],
   "source": [
    "class SolutionPrinter(cp_model.CpSolverSolutionCallback):\n",
    "    def __init__(self, parejas):\n",
    "        cp_model.CpSolverSolutionCallback.__init__(self)\n",
    "        self._parejas = parejas\n",
    "        self.count = 0\n",
    "        self.resultados = []\n",
    "\n",
    "    def OnSolutionCallback(self):\n",
    "        self.count += 1\n",
    "        matching = []\n",
    "        for m in range(6):\n",
    "            for w in range(6):\n",
    "                if self.Value(self._parejas[m][w]) == 1:\n",
    "                    matching.append((m, w))\n",
    "                    break\n",
    "        self.resultados.append(matching)\n",
    "       \n",
    "        print(f\"Solución {self.count}:\")\n",
    "        for m, w in matching:\n",
    "            print(f\"  Hombre {m+1}  —  Mujer {w+1}   (rank hombre: {tablero_m[m][w]}, rank mujer: {tablero_w[w][m]})\")\n",
    "        print(\"\")\n",
    "\n",
    "    def get_results(self):\n",
    "        return self.resultados\n",
    "    "
   ]
  },
  {
   "cell_type": "code",
   "execution_count": 15,
   "id": "1cfd289a",
   "metadata": {},
   "outputs": [
    {
     "name": "stdout",
     "output_type": "stream",
     "text": [
      "Solución 1:\n",
      "  Hombre 1  —  Mujer 4   (rank hombre: 2, rank mujer: 3)\n",
      "  Hombre 2  —  Mujer 5   (rank hombre: 4, rank mujer: 4)\n",
      "  Hombre 3  —  Mujer 2   (rank hombre: 4, rank mujer: 4)\n",
      "  Hombre 4  —  Mujer 6   (rank hombre: 1, rank mujer: 1)\n",
      "  Hombre 5  —  Mujer 3   (rank hombre: 3, rank mujer: 4)\n",
      "  Hombre 6  —  Mujer 1   (rank hombre: 1, rank mujer: 1)\n",
      "\n",
      "Solución 2:\n",
      "  Hombre 1  —  Mujer 4   (rank hombre: 2, rank mujer: 3)\n",
      "  Hombre 2  —  Mujer 3   (rank hombre: 5, rank mujer: 3)\n",
      "  Hombre 3  —  Mujer 5   (rank hombre: 5, rank mujer: 2)\n",
      "  Hombre 4  —  Mujer 6   (rank hombre: 1, rank mujer: 1)\n",
      "  Hombre 5  —  Mujer 2   (rank hombre: 5, rank mujer: 1)\n",
      "  Hombre 6  —  Mujer 1   (rank hombre: 1, rank mujer: 1)\n",
      "\n",
      "Solución 3:\n",
      "  Hombre 1  —  Mujer 4   (rank hombre: 2, rank mujer: 3)\n",
      "  Hombre 2  —  Mujer 3   (rank hombre: 5, rank mujer: 3)\n",
      "  Hombre 3  —  Mujer 2   (rank hombre: 4, rank mujer: 4)\n",
      "  Hombre 4  —  Mujer 6   (rank hombre: 1, rank mujer: 1)\n",
      "  Hombre 5  —  Mujer 5   (rank hombre: 4, rank mujer: 3)\n",
      "  Hombre 6  —  Mujer 1   (rank hombre: 1, rank mujer: 1)\n",
      "\n",
      "Solución 4:\n",
      "  Hombre 1  —  Mujer 3   (rank hombre: 4, rank mujer: 1)\n",
      "  Hombre 2  —  Mujer 4   (rank hombre: 6, rank mujer: 2)\n",
      "  Hombre 3  —  Mujer 2   (rank hombre: 4, rank mujer: 4)\n",
      "  Hombre 4  —  Mujer 6   (rank hombre: 1, rank mujer: 1)\n",
      "  Hombre 5  —  Mujer 5   (rank hombre: 4, rank mujer: 3)\n",
      "  Hombre 6  —  Mujer 1   (rank hombre: 1, rank mujer: 1)\n",
      "\n",
      "Solución 5:\n",
      "  Hombre 1  —  Mujer 3   (rank hombre: 4, rank mujer: 1)\n",
      "  Hombre 2  —  Mujer 4   (rank hombre: 6, rank mujer: 2)\n",
      "  Hombre 3  —  Mujer 5   (rank hombre: 5, rank mujer: 2)\n",
      "  Hombre 4  —  Mujer 6   (rank hombre: 1, rank mujer: 1)\n",
      "  Hombre 5  —  Mujer 2   (rank hombre: 5, rank mujer: 1)\n",
      "  Hombre 6  —  Mujer 1   (rank hombre: 1, rank mujer: 1)\n",
      "\n",
      "Total soluciones encontradas: 5\n"
     ]
    }
   ],
   "source": [
    "solver = cp_model.CpSolver()\n",
    "\n",
    "\n",
    "printer = SolutionPrinter(parejas)\n",
    "\n",
    "solver.SearchForAllSolutions(model, printer)\n",
    "\n",
    "print(f\"Total soluciones encontradas: {printer.count}\")\n",
    "if printer.count == 0:\n",
    "    print(\"No existe solucion.\")"
   ]
  },
  {
   "cell_type": "code",
   "execution_count": 34,
   "id": "3100f397",
   "metadata": {},
   "outputs": [
    {
     "data": {
      "text/plain": [
       "[[(0, 3), (1, 4), (2, 1), (3, 5), (4, 2), (5, 0)],\n",
       " [(0, 3), (1, 2), (2, 4), (3, 5), (4, 1), (5, 0)],\n",
       " [(0, 3), (1, 2), (2, 1), (3, 5), (4, 4), (5, 0)],\n",
       " [(0, 2), (1, 3), (2, 1), (3, 5), (4, 4), (5, 0)],\n",
       " [(0, 2), (1, 3), (2, 4), (3, 5), (4, 1), (5, 0)]]"
      ]
     },
     "execution_count": 34,
     "metadata": {},
     "output_type": "execute_result"
    }
   ],
   "source": [
    "parejas = printer.get_results()\n",
    "\n",
    "parejas"
   ]
  },
  {
   "cell_type": "code",
   "execution_count": null,
   "id": "42e64860",
   "metadata": {},
   "outputs": [
    {
     "data": {
      "text/plain": [
       "'VALID'"
      ]
     },
     "execution_count": 19,
     "metadata": {},
     "output_type": "execute_result"
    }
   ],
   "source": [
    "possible_parejas = [(0,3), (1,4), (2,1), (3,5), (4,2), (5,0) ]\n",
    "\n",
    "\n",
    "\n",
    "def validar(possible_parejas):\n",
    "    for m, w in possible_parejas:\n",
    "        for m0, w0 in possible_parejas:\n",
    "            if tablero_m[m][w0] < tablero_m[m][w] and tablero_w[w0][m] < tablero_w[w0][m0]:\n",
    "                print(f\"Pareja inestable: Hombre {m} con Mujer {w0} y Hombre {m0} con Mujer {w}\")\n",
    "                return \"INVALID\"\n",
    "                \n",
    "            \n",
    "\n",
    "    return \"VALID\"\n",
    "\n",
    "resultado = validar(possible_parejas)\n",
    "\n",
    "resultado"
   ]
  },
  {
   "cell_type": "code",
   "execution_count": 35,
   "id": "c92b9860",
   "metadata": {},
   "outputs": [
    {
     "data": {
      "text/plain": [
       "['VALID', 'VALID', 'VALID', 'VALID', 'VALID']"
      ]
     },
     "execution_count": 35,
     "metadata": {},
     "output_type": "execute_result"
    }
   ],
   "source": [
    "validaciones = list(map(validar, printer.get_results()))\n",
    "\n",
    "validaciones\n"
   ]
  },
  {
   "cell_type": "code",
   "execution_count": 33,
   "id": "14b3176a",
   "metadata": {},
   "outputs": [],
   "source": [
    "def tablero(pareja):\n",
    "    table_m = [[0]*6 for _ in range(6)]\n",
    "    table_w = [[0]*6 for _ in range(6)]\n",
    "\n",
    "    for i in range(6):\n",
    "        for j in range(6):\n",
    "            if pareja[i][1] == j:\n",
    "                table_m[i][j] = tablero_m[i][j]\n",
    "                table_w[j][i] = tablero_w[j][i]\n",
    "\n",
    "    return table_m, table_w"
   ]
  },
  {
   "cell_type": "code",
   "execution_count": 38,
   "id": "9fea5d48",
   "metadata": {},
   "outputs": [],
   "source": [
    "solucion_m, solucion_w = tablero(parejas[0])"
   ]
  },
  {
   "cell_type": "code",
   "execution_count": 39,
   "id": "ad793496",
   "metadata": {},
   "outputs": [
    {
     "data": {
      "text/plain": [
       "([[0, 0, 0, 2, 0, 0],\n",
       "  [0, 0, 0, 0, 4, 0],\n",
       "  [0, 4, 0, 0, 0, 0],\n",
       "  [0, 0, 0, 0, 0, 1],\n",
       "  [0, 0, 3, 0, 0, 0],\n",
       "  [1, 0, 0, 0, 0, 0]],\n",
       " [[0, 0, 0, 0, 0, 1],\n",
       "  [0, 0, 4, 0, 0, 0],\n",
       "  [0, 0, 0, 0, 4, 0],\n",
       "  [3, 0, 0, 0, 0, 0],\n",
       "  [0, 4, 0, 0, 0, 0],\n",
       "  [0, 0, 0, 1, 0, 0]])"
      ]
     },
     "execution_count": 39,
     "metadata": {},
     "output_type": "execute_result"
    }
   ],
   "source": [
    "solucion_m, solucion_w"
   ]
  },
  {
   "cell_type": "code",
   "execution_count": null,
   "id": "2786829f",
   "metadata": {},
   "outputs": [],
   "source": []
  }
 ],
 "metadata": {
  "kernelspec": {
   "display_name": ".venv",
   "language": "python",
   "name": "python3"
  },
  "language_info": {
   "codemirror_mode": {
    "name": "ipython",
    "version": 3
   },
   "file_extension": ".py",
   "mimetype": "text/x-python",
   "name": "python",
   "nbconvert_exporter": "python",
   "pygments_lexer": "ipython3",
   "version": "3.11.9"
  }
 },
 "nbformat": 4,
 "nbformat_minor": 5
}
