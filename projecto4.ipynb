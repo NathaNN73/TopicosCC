{
 "cells": [
  {
   "cell_type": "code",
   "execution_count": null,
   "id": "4615c87d",
   "metadata": {},
   "outputs": [],
   "source": [
    "from ortools.sat.python import cp_model"
   ]
  },
  {
   "cell_type": "code",
   "execution_count": null,
   "id": "cc9596cb",
   "metadata": {},
   "outputs": [],
   "source": [
    "tablero_m = [\n",
    "    [3, 5, 4, 2, 1, 6],\n",
    "    [3, 2, 5, 6, 4, 1],\n",
    "    [2, 4, 3, 1, 5, 6],\n",
    "    [5, 6, 4, 2, 3, 1],\n",
    "    [2, 5, 3, 6, 4, 1],\n",
    "    [1, 3, 4, 5, 6, 2]\n",
    "]\n",
    "\n",
    "tablero_w = [\n",
    "    [2, 4, 5, 3, 6, 1],\n",
    "    [3, 5, 4, 2, 1, 6],\n",
    "    [1, 3, 6, 2, 4, 5],\n",
    "    [3, 2, 5, 6, 4 ,1],\n",
    "    [6, 4, 2, 1, 3, 5],\n",
    "    [6, 4, 3, 1, 5, 2]\n",
    "]\n"
   ]
  },
  {
   "cell_type": "code",
   "execution_count": null,
   "id": "b30521bb",
   "metadata": {},
   "outputs": [],
   "source": [
    "model = cp_model.CpModel()\n",
    "\n",
    "parejas = [[model.NewBoolVar(f\"parejas_{m}_{w}\") for w in range(6)] for m in range(6)]\n",
    "\n",
    "\n",
    "n = 6\n",
    "\n",
    "for m in range(6):\n",
    "    model.Add(sum(parejas[m][w] for w in range(6)) == 1)\n",
    "for w in range(6):\n",
    "    model.Add(sum(parejas[m][w] for m in range(6)) == 1)\n",
    "\n",
    "\n",
    "minRank = 4\n",
    "for w in range(6):\n",
    "    for m in range(6):\n",
    "        if tablero_w[w][m] > minRank:\n",
    "            model.Add(parejas[m][w] == 0) \n",
    "\n",
    "for m in range(6):\n",
    "    for w in range(6):\n",
    "        for m0 in range(6):\n",
    "            for w0 in range(6):\n",
    "                if tablero_m[m][w0] < tablero_m[m][w] and tablero_w[w0][m] < tablero_w[w0][m0]:\n",
    "                    model.Add(parejas[m][w] + parejas[m0][w0] <= 1)"
   ]
  },
  {
   "cell_type": "code",
   "execution_count": null,
   "id": "9d151792",
   "metadata": {},
   "outputs": [],
   "source": [
    "class SolutionPrinter(cp_model.CpSolverSolutionCallback):\n",
    "    def __init__(self, parejas):\n",
    "        cp_model.CpSolverSolutionCallback.__init__(self)\n",
    "        self._parejas = parejas\n",
    "        self.count = 0\n",
    "\n",
    "    def OnSolutionCallback(self):\n",
    "        self.count += 1\n",
    "        matching = []\n",
    "        for m in range(6):\n",
    "            for w in range(6):\n",
    "                if self.Value(self._parejas[m][w]) == 1:\n",
    "                    matching.append((m, w))\n",
    "                    break\n",
    "       \n",
    "        print(f\"Solución {self.count}:\")\n",
    "        for m, w in matching:\n",
    "            print(f\"  Hombre {m+1}  —  Mujer {w+1}   (rank hombre: {tablero_m[m][w]}, rank mujer: {tablero_w[w][m]})\")\n",
    "        print(\"\")"
   ]
  },
  {
   "cell_type": "code",
   "execution_count": null,
   "id": "1cfd289a",
   "metadata": {},
   "outputs": [],
   "source": [
    "solver = cp_model.CpSolver()\n",
    "\n",
    "\n",
    "printer = SolutionPrinter(parejas)\n",
    "\n",
    "solver.SearchForAllSolutions(model, printer)\n",
    "\n",
    "print(f\"Total soluciones encontradas: {printer.count}\")\n",
    "if printer.count == 0:\n",
    "    print(\"No existe solucion.\")"
   ]
  },
  {
   "cell_type": "code",
   "execution_count": null,
   "id": "42e64860",
   "metadata": {},
   "outputs": [],
   "source": [
    "possible_parejas = [(0,3), (1,4), (2,1), (3,5), (4,2), (5,0) ]\n",
    "\n",
    "\n",
    "def validar(possible_parejas):\n",
    "    for m, w in possible_parejas:\n",
    "        for m0, w0 in possible_parejas:\n",
    "            if m != m0 and w != w0:\n",
    "                if tablero_w[m][w0] < tablero_w[m][w] and tablero_m[w0][m] < tablero_m[w0][m0]:\n",
    "                    print(f\"Pareja inestable: Hombre {m+1} con Mujer {w0+1} y Hombre {m0+1} con Mujer {w+1}\")\n",
    "                    return \"INVALID\"\n",
    "            \n",
    "\n",
    "    return \"VALID\"\n",
    "\n",
    "resultado = validar(possible_parejas)\n",
    "\n",
    "resultado"
   ]
  }
 ],
 "metadata": {
  "language_info": {
   "name": "python"
  }
 },
 "nbformat": 4,
 "nbformat_minor": 5
}
